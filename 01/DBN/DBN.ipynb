{
 "cells": [
  {
   "cell_type": "code",
   "execution_count": 1,
   "metadata": {},
   "outputs": [],
   "source": [
    "import numpy as np"
   ]
  },
  {
   "cell_type": "code",
   "execution_count": 2,
   "metadata": {},
   "outputs": [],
   "source": [
    "string_arr = []"
   ]
  },
  {
   "cell_type": "code",
   "execution_count": 3,
   "metadata": {},
   "outputs": [],
   "source": [
    "with open('sessions_1000000.txt') as f:\n",
    "    for k in f:\n",
    "        string_arr.append(k)"
   ]
  },
  {
   "cell_type": "code",
   "execution_count": 4,
   "metadata": {},
   "outputs": [],
   "source": [
    "for i in range(len(string_arr)):\n",
    "    string_arr[i] = string_arr[i].split('\\t')"
   ]
  },
  {
   "cell_type": "code",
   "execution_count": 5,
   "metadata": {},
   "outputs": [],
   "source": [
    "new_arr = dict()\n",
    "for k in string_arr:\n",
    "    if new_arr.get(k[2], -1) == -1:\n",
    "        new_arr[k[2]] = [{\n",
    "            'region':int(k[3]),\n",
    "            'urls':k[5:5 + int(k[4])],\n",
    "            'clicks':np.array(list(map(int, k[5 + int(k[4]) : -1])))\n",
    "            \n",
    "        }]\n",
    "    else:\n",
    "        new_arr[k[2]].append({\n",
    "            'region':int(k[3]),\n",
    "            'urls':k[5:5 + int(k[4])],\n",
    "            'clicks':np.array(list(map(int, k[5 + int(k[4]) : -1])))\n",
    "            \n",
    "        })"
   ]
  },
  {
   "cell_type": "code",
   "execution_count": 6,
   "metadata": {},
   "outputs": [],
   "source": [
    "res = dict()"
   ]
  },
  {
   "cell_type": "code",
   "execution_count": 7,
   "metadata": {},
   "outputs": [],
   "source": [
    "al = 0.0000001\n",
    "be = 0.000001"
   ]
  },
  {
   "cell_type": "code",
   "execution_count": 8,
   "metadata": {},
   "outputs": [],
   "source": [
    "for key in new_arr.keys():\n",
    "    res[key] = dict()\n",
    "    for qu in new_arr[key]:\n",
    "        for url_id in qu['urls']:\n",
    "            if res[key].get(url_id, -1) == -1:\n",
    "                res[key][url_id] = {\n",
    "                    'an' : al,\n",
    "                    'ad' : al + be,\n",
    "                    'sn' : al,\n",
    "                    'sd': be + al\n",
    "                }\n",
    "        for click in qu['clicks']:\n",
    "            res[key][qu['urls'][click - 1]]['an'] += 1\n",
    "            res[key][qu['urls'][click - 1]]['sd'] += 1\n",
    "        for i in range(np.max(qu['clicks'])):\n",
    "            res[key][qu['urls'][i]]['ad'] += 1\n",
    "        res[key][qu['urls'][np.max(qu['clicks']) - 1]]['sn'] += 1"
   ]
  },
  {
   "cell_type": "code",
   "execution_count": 9,
   "metadata": {},
   "outputs": [],
   "source": [
    "ans = dict()"
   ]
  },
  {
   "cell_type": "code",
   "execution_count": 10,
   "metadata": {},
   "outputs": [],
   "source": [
    "for key in new_arr.keys():\n",
    "    ans[key] = dict()\n",
    "    for qu in new_arr[key]:\n",
    "        for url_id in qu['urls']:\n",
    "            ans[key][url_id] = res[key][url_id]['an'] * res[key][url_id]['sn'] / \\\n",
    "                             (res[key][url_id]['ad'] * res[key][url_id]['sd'])"
   ]
  },
  {
   "cell_type": "code",
   "execution_count": 11,
   "metadata": {},
   "outputs": [],
   "source": [
    "stat_res = dict()"
   ]
  },
  {
   "cell_type": "code",
   "execution_count": 12,
   "metadata": {},
   "outputs": [],
   "source": [
    "for key in new_arr.keys():\n",
    "    if len(new_arr[key]) > 5:\n",
    "        least_at = np.inf\n",
    "        big_dif = 0\n",
    "        little_dif = np.inf\n",
    "        highest_rank = 0\n",
    "        dic = {\n",
    "            'least_attractive_url' : None,\n",
    "            'biggest_ratio_url' : None,\n",
    "            'smallest_ratio_url':None,\n",
    "            'highest_rank_url':None\n",
    "        }\n",
    "        for session in new_arr[key]:\n",
    "            for url in session['urls']:\n",
    "                att =  res[key][url]['an'] / res[key][url]['ad']\n",
    "                sat = res[key][url]['sn'] / res[key][url]['sd']\n",
    "                rank = att * sat\n",
    "                dif = att / sat\n",
    "                at = att\n",
    "                if dif > big_dif:\n",
    "                    big_dif = dif\n",
    "                    dic['biggest_ratio_url'] = url\n",
    "                if dif < little_dif:\n",
    "                    little_dif = dif\n",
    "                    dic['smallest_ratio_url'] = url\n",
    "                if at < least_at:\n",
    "                    least_at = at\n",
    "                    dic ['least_attractive_url'] = url\n",
    "                if rank > highest_rank:\n",
    "                    highest_rank = rank\n",
    "                    dic['highest_rank_url'] = url\n",
    "        stat_res[key] = dic"
   ]
  },
  {
   "cell_type": "code",
   "execution_count": 13,
   "metadata": {},
   "outputs": [],
   "source": [
    "weather_urls = set()\n",
    "for session in new_arr['погода']:\n",
    "    for url in session['urls']:\n",
    "        weather_urls.add(url)\n",
    "    "
   ]
  },
  {
   "cell_type": "code",
   "execution_count": 14,
   "metadata": {},
   "outputs": [],
   "source": [
    "weather_piter_urls = set()\n",
    "for session in new_arr['погода']:\n",
    "    if session['region'] != 107:\n",
    "        continue\n",
    "    for url in session['urls']:\n",
    "        weather_piter_urls.add(url)"
   ]
  },
  {
   "cell_type": "code",
   "execution_count": 15,
   "metadata": {},
   "outputs": [
    {
     "data": {
      "text/plain": [
       "{'http://pogoda.yandex.ru/saint-petersburg',\n",
       " 'http://sankt-peterburg.pogoda24.org/',\n",
       " 'http://sankt-peterburg.ya-pogoda.ru/',\n",
       " 'http://spb.nuipogoda.ru/',\n",
       " 'http://spbpogoda.ru/',\n",
       " 'http://www.gismeteo.ru/city/daily/4079/',\n",
       " 'http://www.gismeteo.ru/city/weekly/4079/',\n",
       " 'http://www.pogoda.spb.ru/10days/',\n",
       " 'http://www.pogoda78.ru/',\n",
       " 'http://yandex.ru/pogoda/saint-petersburg/',\n",
       " 'weather'}"
      ]
     },
     "execution_count": 15,
     "metadata": {},
     "output_type": "execute_result"
    }
   ],
   "source": [
    "weather_piter_urls"
   ]
  }
 ],
 "metadata": {
  "kernelspec": {
   "display_name": "Python 3",
   "language": "python",
   "name": "python3"
  },
  "language_info": {
   "codemirror_mode": {
    "name": "ipython",
    "version": 3
   },
   "file_extension": ".py",
   "mimetype": "text/x-python",
   "name": "python",
   "nbconvert_exporter": "python",
   "pygments_lexer": "ipython3",
   "version": "3.8.3"
  }
 },
 "nbformat": 4,
 "nbformat_minor": 4
}
